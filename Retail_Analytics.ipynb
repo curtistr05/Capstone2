{
 "cells": [
  {
   "cell_type": "code",
   "execution_count": null,
   "metadata": {},
   "outputs": [],
   "source": []
  },
  {
   "cell_type": "code",
   "execution_count": 4,
   "metadata": {},
   "outputs": [
    {
     "name": "stdout",
     "output_type": "stream",
     "text": [
      "Features Data \n",
      "-------------------- \n",
      "Shape: (8190, 12) \n",
      "Columns: ['Store', 'Date', 'Temperature', 'Fuel_Price', 'MarkDown1', 'MarkDown2', 'MarkDown3', 'MarkDown4', 'MarkDown5', 'CPI', 'Unemployment', 'IsHoliday'] \n",
      "    Store        Date  Temperature  Fuel_Price  MarkDown1  MarkDown2  \\\n",
      "0      1  05/02/2010        42.31       2.572        NaN        NaN   \n",
      "1      1  12/02/2010        38.51       2.548        NaN        NaN   \n",
      "2      1  19/02/2010        39.93       2.514        NaN        NaN   \n",
      "3      1  26/02/2010        46.63       2.561        NaN        NaN   \n",
      "4      1  05/03/2010        46.50       2.625        NaN        NaN   \n",
      "\n",
      "   MarkDown3  MarkDown4  MarkDown5         CPI  Unemployment  IsHoliday  \n",
      "0        NaN        NaN        NaN  211.096358         8.106      False  \n",
      "1        NaN        NaN        NaN  211.242170         8.106       True  \n",
      "2        NaN        NaN        NaN  211.289143         8.106      False  \n",
      "3        NaN        NaN        NaN  211.319643         8.106      False  \n",
      "4        NaN        NaN        NaN  211.350143         8.106      False   \n",
      "====================\n",
      "Sales Data \n",
      "-------------------- \n",
      "Shape: (421570, 5) \n",
      "Columns: ['Store', 'Dept', 'Date', 'Weekly_Sales', 'IsHoliday'] \n",
      "    Store  Dept        Date  Weekly_Sales  IsHoliday\n",
      "0      1     1  05/02/2010      24924.50      False\n",
      "1      1     1  12/02/2010      46039.49       True\n",
      "2      1     1  19/02/2010      41595.55      False\n",
      "3      1     1  26/02/2010      19403.54      False\n",
      "4      1     1  05/03/2010      21827.90      False \n",
      "====================\n",
      "Stores Data \n",
      "-------------------- \n",
      "Shape: (45, 3) \n",
      "Columns: ['Store', 'Type', 'Size'] \n",
      "    Store Type    Size\n",
      "0      1    A  151315\n",
      "1      2    A  202307\n",
      "2      3    B   37392\n",
      "3      4    A  205863\n",
      "4      5    B   34875\n"
     ]
    }
   ],
   "source": [
    "import os\n",
    "import pandas as pd\n",
    "\n",
    "features = pd.read_csv('Features data set.csv')\n",
    "sales = pd.read_csv('sales data-set.csv')\n",
    "stores = pd.read_csv('stores data-set.csv')\n",
    "\n",
    "#Print Shape, Column Names, Dataframe Head, \n",
    "print('Features Data', '\\n--------------------', '\\nShape:', features.shape, \"\\nColumns:\",features.columns.tolist(), '\\n', features.head(), '\\n====================')\n",
    "print('Sales Data', '\\n--------------------', '\\nShape:', sales.shape, \"\\nColumns:\",sales.columns.tolist(), '\\n', sales.head(), '\\n====================')\n",
    "print('Stores Data', '\\n--------------------', '\\nShape:', stores.shape, \"\\nColumns:\",stores.columns.tolist(), '\\n', stores.head())"
   ]
  },
  {
   "cell_type": "code",
   "execution_count": 6,
   "metadata": {},
   "outputs": [
    {
     "name": "stdout",
     "output_type": "stream",
     "text": [
      "dfmerged Data \n",
      "-------------------- \n",
      "Shape: (421570, 16) \n",
      "Columns: ['Store' 'Dept' 'Date' 'Weekly_Sales' 'IsHoliday' 'Temperature'\n",
      " 'Fuel_Price' 'MarkDown1' 'MarkDown2' 'MarkDown3' 'MarkDown4' 'MarkDown5'\n",
      " 'CPI' 'Unemployment' 'Type' 'Size'] \n",
      "    Store  Dept       Date  Weekly_Sales  IsHoliday  Temperature  Fuel_Price  \\\n",
      "0      1     1 2010-05-02      24924.50      False        42.31       2.572   \n",
      "1      1     1 2010-12-02      46039.49       True        38.51       2.548   \n",
      "2      1     1 2010-02-19      41595.55      False        39.93       2.514   \n",
      "3      1     1 2010-02-26      19403.54      False        46.63       2.561   \n",
      "4      1     1 2010-05-03      21827.90      False        46.50       2.625   \n",
      "\n",
      "   MarkDown1  MarkDown2  MarkDown3  MarkDown4  MarkDown5         CPI  \\\n",
      "0        NaN        NaN        NaN        NaN        NaN  211.096358   \n",
      "1        NaN        NaN        NaN        NaN        NaN  211.242170   \n",
      "2        NaN        NaN        NaN        NaN        NaN  211.289143   \n",
      "3        NaN        NaN        NaN        NaN        NaN  211.319643   \n",
      "4        NaN        NaN        NaN        NaN        NaN  211.350143   \n",
      "\n",
      "   Unemployment Type    Size  \n",
      "0         8.106    A  151315  \n",
      "1         8.106    A  151315  \n",
      "2         8.106    A  151315  \n",
      "3         8.106    A  151315  \n",
      "4         8.106    A  151315  \n"
     ]
    }
   ],
   "source": [
    "#Merge dataframes using pd.merge \n",
    "df=pd.merge(sales,features, on=['Store','Date', 'IsHoliday'], how='left')\n",
    "dfmerged=pd.merge(df,stores, on=['Store'], how='left')\n",
    "\n",
    "#Convert dates into python date time object\n",
    "dfmerged['Date'] = pd.to_datetime(dfmerged['Date'])\n",
    "\n",
    "print('dfmerged Data', '\\n--------------------', '\\nShape:', dfmerged.shape, \"\\nColumns:\",dfmerged.columns.values, '\\n', dfmerged.head())"
   ]
  },
  {
   "cell_type": "code",
   "execution_count": 7,
   "metadata": {},
   "outputs": [
    {
     "name": "stdout",
     "output_type": "stream",
     "text": [
      "Store                    int64\n",
      "Dept                     int64\n",
      "Date            datetime64[ns]\n",
      "Weekly_Sales           float64\n",
      "IsHoliday                 bool\n",
      "Temperature            float64\n",
      "Fuel_Price             float64\n",
      "MarkDown1              float64\n",
      "MarkDown2              float64\n",
      "MarkDown3              float64\n",
      "MarkDown4              float64\n",
      "MarkDown5              float64\n",
      "CPI                    float64\n",
      "Unemployment           float64\n",
      "Type                    object\n",
      "Size                     int64\n",
      "dtype: object\n"
     ]
    }
   ],
   "source": [
    "#Print Datatypes\n",
    "print(dfmerged.dtypes)"
   ]
  },
  {
   "cell_type": "code",
   "execution_count": 8,
   "metadata": {},
   "outputs": [
    {
     "name": "stdout",
     "output_type": "stream",
     "text": [
      "<class 'pandas.core.frame.DataFrame'>\n",
      "Int64Index: 421570 entries, 0 to 421569\n",
      "Data columns (total 16 columns):\n",
      " #   Column        Non-Null Count   Dtype         \n",
      "---  ------        --------------   -----         \n",
      " 0   Store         421570 non-null  int64         \n",
      " 1   Dept          421570 non-null  int64         \n",
      " 2   Date          421570 non-null  datetime64[ns]\n",
      " 3   Weekly_Sales  421570 non-null  float64       \n",
      " 4   IsHoliday     421570 non-null  bool          \n",
      " 5   Temperature   421570 non-null  float64       \n",
      " 6   Fuel_Price    421570 non-null  float64       \n",
      " 7   MarkDown1     150681 non-null  float64       \n",
      " 8   MarkDown2     111248 non-null  float64       \n",
      " 9   MarkDown3     137091 non-null  float64       \n",
      " 10  MarkDown4     134967 non-null  float64       \n",
      " 11  MarkDown5     151432 non-null  float64       \n",
      " 12  CPI           421570 non-null  float64       \n",
      " 13  Unemployment  421570 non-null  float64       \n",
      " 14  Type          421570 non-null  object        \n",
      " 15  Size          421570 non-null  int64         \n",
      "dtypes: bool(1), datetime64[ns](1), float64(10), int64(3), object(1)\n",
      "memory usage: 51.9+ MB\n",
      "None\n"
     ]
    }
   ],
   "source": [
    "#Review the column names, null value counts and data types of dfmerged using .info()\n",
    "print(dfmerged.info())"
   ]
  },
  {
   "cell_type": "code",
   "execution_count": 11,
   "metadata": {},
   "outputs": [
    {
     "name": "stdout",
     "output_type": "stream",
     "text": [
      "                              min                  max\n",
      "Store                           1                   45\n",
      "Dept                            1                   99\n",
      "Date          2010-01-10 00:00:00  2012-12-10 00:00:00\n",
      "Weekly_Sales             -4988.94               693099\n",
      "IsHoliday                   False                 True\n",
      "Temperature                 -2.06               100.14\n",
      "Fuel_Price                  2.472                4.468\n",
      "MarkDown1                    0.27              88646.8\n",
      "MarkDown2                 -265.76               104520\n",
      "MarkDown3                   -29.1               141631\n",
      "MarkDown4                    0.22              67474.9\n",
      "MarkDown5                  135.16               108519\n",
      "CPI                       126.064              227.233\n",
      "Unemployment                3.879               14.313\n",
      "Type                            A                    C\n",
      "Size                        34875               219622\n"
     ]
    }
   ],
   "source": [
    "#Print the range of column values using .agg() and use .T to transpose for readability\n",
    "print(dfmerged.agg([min, max]).T)"
   ]
  },
  {
   "cell_type": "code",
   "execution_count": 12,
   "metadata": {},
   "outputs": [
    {
     "name": "stdout",
     "output_type": "stream",
     "text": [
      "               Store           Dept   Weekly_Sales    Temperature  \\\n",
      "count  421570.000000  421570.000000  421570.000000  421570.000000   \n",
      "mean       22.200546      44.260317   15981.258123      60.090059   \n",
      "std        12.785297      30.492054   22711.183519      18.447931   \n",
      "min         1.000000       1.000000   -4988.940000      -2.060000   \n",
      "25%        11.000000      18.000000    2079.650000      46.680000   \n",
      "50%        22.000000      37.000000    7612.030000      62.090000   \n",
      "75%        33.000000      74.000000   20205.852500      74.280000   \n",
      "max        45.000000      99.000000  693099.360000     100.140000   \n",
      "\n",
      "          Fuel_Price      MarkDown1      MarkDown2      MarkDown3  \\\n",
      "count  421570.000000  150681.000000  111248.000000  137091.000000   \n",
      "mean        3.361027    7246.420196    3334.628621    1439.421384   \n",
      "std         0.458515    8291.221345    9475.357325    9623.078290   \n",
      "min         2.472000       0.270000    -265.760000     -29.100000   \n",
      "25%         2.933000    2240.270000      41.600000       5.080000   \n",
      "50%         3.452000    5347.450000     192.000000      24.600000   \n",
      "75%         3.738000    9210.900000    1926.940000     103.990000   \n",
      "max         4.468000   88646.760000  104519.540000  141630.610000   \n",
      "\n",
      "           MarkDown4      MarkDown5            CPI   Unemployment  \\\n",
      "count  134967.000000  151432.000000  421570.000000  421570.000000   \n",
      "mean     3383.168256    4628.975079     171.201947       7.960289   \n",
      "std      6292.384031    5962.887455      39.159276       1.863296   \n",
      "min         0.220000     135.160000     126.064000       3.879000   \n",
      "25%       504.220000    1878.440000     132.022667       6.891000   \n",
      "50%      1481.310000    3359.450000     182.318780       7.866000   \n",
      "75%      3595.040000    5563.800000     212.416993       8.572000   \n",
      "max     67474.850000  108519.280000     227.232807      14.313000   \n",
      "\n",
      "                Size  \n",
      "count  421570.000000  \n",
      "mean   136727.915739  \n",
      "std     60980.583328  \n",
      "min     34875.000000  \n",
      "25%     93638.000000  \n",
      "50%    140167.000000  \n",
      "75%    202505.000000  \n",
      "max    219622.000000  \n"
     ]
    }
   ],
   "source": [
    "#Review Summary Statistics\n",
    "print(dfmerged.describe())"
   ]
  },
  {
   "cell_type": "code",
   "execution_count": 13,
   "metadata": {},
   "outputs": [
    {
     "data": {
      "text/html": [
       "<div>\n",
       "<style scoped>\n",
       "    .dataframe tbody tr th:only-of-type {\n",
       "        vertical-align: middle;\n",
       "    }\n",
       "\n",
       "    .dataframe tbody tr th {\n",
       "        vertical-align: top;\n",
       "    }\n",
       "\n",
       "    .dataframe thead th {\n",
       "        text-align: right;\n",
       "    }\n",
       "</style>\n",
       "<table border=\"1\" class=\"dataframe\">\n",
       "  <thead>\n",
       "    <tr style=\"text-align: right;\">\n",
       "      <th></th>\n",
       "      <th>percent</th>\n",
       "    </tr>\n",
       "  </thead>\n",
       "  <tbody>\n",
       "    <tr>\n",
       "      <th>MarkDown2</th>\n",
       "      <td>0.736110</td>\n",
       "    </tr>\n",
       "    <tr>\n",
       "      <th>MarkDown4</th>\n",
       "      <td>0.679847</td>\n",
       "    </tr>\n",
       "    <tr>\n",
       "      <th>MarkDown3</th>\n",
       "      <td>0.674808</td>\n",
       "    </tr>\n",
       "    <tr>\n",
       "      <th>MarkDown1</th>\n",
       "      <td>0.642572</td>\n",
       "    </tr>\n",
       "    <tr>\n",
       "      <th>MarkDown5</th>\n",
       "      <td>0.640790</td>\n",
       "    </tr>\n",
       "  </tbody>\n",
       "</table>\n",
       "</div>"
      ],
      "text/plain": [
       "            percent\n",
       "MarkDown2  0.736110\n",
       "MarkDown4  0.679847\n",
       "MarkDown3  0.674808\n",
       "MarkDown1  0.642572\n",
       "MarkDown5  0.640790"
      ]
     },
     "execution_count": 13,
     "metadata": {},
     "output_type": "execute_result"
    }
   ],
   "source": [
    "# print out the percent of each feature that is missing\n",
    "nas=pd.DataFrame(dfmerged.isnull().sum().sort_values(ascending=False)/len(dfmerged),columns = ['percent'])\n",
    "pos = nas['percent'] > 0\n",
    "nas[pos]"
   ]
  },
  {
   "cell_type": "code",
   "execution_count": 20,
   "metadata": {},
   "outputs": [
    {
     "data": {
      "text/html": [
       "<div>\n",
       "<style scoped>\n",
       "    .dataframe tbody tr th:only-of-type {\n",
       "        vertical-align: middle;\n",
       "    }\n",
       "\n",
       "    .dataframe tbody tr th {\n",
       "        vertical-align: top;\n",
       "    }\n",
       "\n",
       "    .dataframe thead th {\n",
       "        text-align: right;\n",
       "    }\n",
       "</style>\n",
       "<table border=\"1\" class=\"dataframe\">\n",
       "  <thead>\n",
       "    <tr style=\"text-align: right;\">\n",
       "      <th></th>\n",
       "      <th>percent</th>\n",
       "    </tr>\n",
       "  </thead>\n",
       "  <tbody>\n",
       "  </tbody>\n",
       "</table>\n",
       "</div>"
      ],
      "text/plain": [
       "Empty DataFrame\n",
       "Columns: [percent]\n",
       "Index: []"
      ]
     },
     "execution_count": 20,
     "metadata": {},
     "output_type": "execute_result"
    }
   ],
   "source": [
    "#Fill missing values values with 0 using fillna and check percent of each feature that is missing using the code from above \n",
    "dfmerged['MarkDown1'].fillna(0, inplace=True)\n",
    "dfmerged['MarkDown1'].fillna(0, inplace=True)\n",
    "dfmerged['MarkDown1'].fillna(0, inplace=True)\n",
    "dfmerged['MarkDown1'].fillna(0, inplace=True)\n",
    "\n",
    "from numpy import nan\n",
    "dfmerged.replace({'MarkDown1': {nan: 0}, 'MarkDown2': {nan: 0}, 'MarkDown3': {nan: 0}, 'MarkDown4': {nan: 0}, 'MarkDown5': {nan: 0}}, inplace=True)\n",
    "\n",
    "# print out the percent of each feature that is missing, it can be seen that there are no missing values\n",
    "nas=pd.DataFrame(dfmerged.isnull().sum().sort_values(ascending=False)/len(dfmerged),columns = ['percent'])\n",
    "pos = nas['percent'] > 0\n",
    "nas[pos]"
   ]
  },
  {
   "cell_type": "code",
   "execution_count": 21,
   "metadata": {},
   "outputs": [
    {
     "name": "stdout",
     "output_type": "stream",
     "text": [
      "Store                    int64\n",
      "Dept                     int64\n",
      "Date            datetime64[ns]\n",
      "Weekly_Sales           float64\n",
      "IsHoliday                 bool\n",
      "Temperature            float64\n",
      "Fuel_Price             float64\n",
      "MarkDown1              float64\n",
      "MarkDown2              float64\n",
      "MarkDown3              float64\n",
      "MarkDown4              float64\n",
      "MarkDown5              float64\n",
      "CPI                    float64\n",
      "Unemployment           float64\n",
      "Type                    object\n",
      "Size                     int64\n",
      "dtype: object\n"
     ]
    }
   ],
   "source": [
    "print(dfmerged.dtypes)"
   ]
  },
  {
   "cell_type": "code",
   "execution_count": 22,
   "metadata": {},
   "outputs": [
    {
     "data": {
      "text/html": [
       "<div>\n",
       "<style scoped>\n",
       "    .dataframe tbody tr th:only-of-type {\n",
       "        vertical-align: middle;\n",
       "    }\n",
       "\n",
       "    .dataframe tbody tr th {\n",
       "        vertical-align: top;\n",
       "    }\n",
       "\n",
       "    .dataframe thead th {\n",
       "        text-align: right;\n",
       "    }\n",
       "</style>\n",
       "<table border=\"1\" class=\"dataframe\">\n",
       "  <thead>\n",
       "    <tr style=\"text-align: right;\">\n",
       "      <th></th>\n",
       "      <th>Store</th>\n",
       "      <th>Dept</th>\n",
       "      <th>Date</th>\n",
       "      <th>Weekly_Sales</th>\n",
       "      <th>IsHoliday</th>\n",
       "      <th>Temperature</th>\n",
       "      <th>Fuel_Price</th>\n",
       "      <th>MarkDown1</th>\n",
       "      <th>MarkDown2</th>\n",
       "      <th>MarkDown3</th>\n",
       "      <th>MarkDown4</th>\n",
       "      <th>MarkDown5</th>\n",
       "      <th>CPI</th>\n",
       "      <th>Unemployment</th>\n",
       "      <th>Type</th>\n",
       "      <th>Size</th>\n",
       "    </tr>\n",
       "  </thead>\n",
       "  <tbody>\n",
       "  </tbody>\n",
       "</table>\n",
       "</div>"
      ],
      "text/plain": [
       "Empty DataFrame\n",
       "Columns: [Store, Dept, Date, Weekly_Sales, IsHoliday, Temperature, Fuel_Price, MarkDown1, MarkDown2, MarkDown3, MarkDown4, MarkDown5, CPI, Unemployment, Type, Size]\n",
       "Index: []"
      ]
     },
     "execution_count": 22,
     "metadata": {},
     "output_type": "execute_result"
    }
   ],
   "source": [
    "#Check for duplicate rows, it can be seen there are no duplicate rows\n",
    "duplicateRowsDF = dfmerged[dfmerged.duplicated()]\n",
    "duplicateRowsDF"
   ]
  },
  {
   "cell_type": "code",
   "execution_count": 23,
   "metadata": {},
   "outputs": [],
   "source": [
    "#Export the processed dataframe as a csv file to the data folder as retailDataCleaned.csv\n",
    "dfmerged.to_csv('~/Documents/Capstone2/data/retailDataCleaned.csv', index=False)"
   ]
  },
  {
   "cell_type": "code",
   "execution_count": null,
   "metadata": {},
   "outputs": [],
   "source": []
  }
 ],
 "metadata": {
  "kernelspec": {
   "display_name": "Python 3",
   "language": "python",
   "name": "python3"
  },
  "language_info": {
   "codemirror_mode": {
    "name": "ipython",
    "version": 3
   },
   "file_extension": ".py",
   "mimetype": "text/x-python",
   "name": "python",
   "nbconvert_exporter": "python",
   "pygments_lexer": "ipython3",
   "version": "3.7.6"
  }
 },
 "nbformat": 4,
 "nbformat_minor": 4
}
